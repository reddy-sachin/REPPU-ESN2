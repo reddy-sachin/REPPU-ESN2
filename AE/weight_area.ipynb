{
 "cells": [
  {
   "cell_type": "code",
   "metadata": {},
   "source": [
    "import numpy as np\n",
    "import matplotlib.pyplot as plt\n",
    "import seaborn as sns"
   ],
   "outputs": [],
   "execution_count": null
  },
  {
   "cell_type": "code",
   "metadata": {},
   "source": [
    "#mlat = np.arange(50, 89, 1) #30 intervals between 53.1° to 89.7°\n",
    "#mlt= np.arange(1, 360, 1) #80 intervals between 1.6° to 357.6°\n",
    "\n",
    "#AMPERE\n",
    "#mlat = np.linspace(40,90,50) #50 intervals between 40° to 90°\n",
    "# mlt = np.linspace(0,360, 24) #24 intervals between 0° to 360°\n",
    "\n",
    "mlat = np.linspace(0,90,90) #50 intervals between 40° to 90°\n",
    "mlt = np.linspace(0,360,360) #24 intervals between 0° to 360°"
   ],
   "outputs": [],
   "execution_count": null
  },
  {
   "metadata": {
    "ExecuteTime": {
     "end_time": "2024-07-23T07:28:22.589956Z",
     "start_time": "2024-07-23T07:28:22.554006Z"
    }
   },
   "cell_type": "code",
   "source": "1 * (np.pi * 6371.008 / 180)",
   "outputs": [
    {
     "data": {
      "text/plain": [
       "111.19506627089888"
      ]
     },
     "execution_count": 83,
     "metadata": {},
     "output_type": "execute_result"
    }
   ],
   "execution_count": 83
  },
  {
   "cell_type": "code",
   "metadata": {
    "ExecuteTime": {
     "end_time": "2024-07-23T05:12:59.040404Z",
     "start_time": "2024-07-23T05:12:59.035520Z"
    }
   },
   "source": [
    "def calculate_delta(lat1, lon1, lat2, lon2):\n",
    "    radius = 6371.008\n",
    "    \n",
    "    #solution 1 in co-latitude\n",
    "    #dlat = np.radians((90-lat1) - (90-lat2))\n",
    "    #dlon = np.radians(lon2 - lon1)\n",
    "    #delta_x = dlat * radius\n",
    "    #delta_y = dlon * radius * np.sin(np.radians(90-lat1))\n",
    "    \n",
    "    #solution 2 in latitude\n",
    "    dlat = np.radians(lat2 - lat1)\n",
    "    dlon = np.radians(lon2 - lon1)\n",
    "    delta_x = dlat * radius\n",
    "    delta_y = dlon * radius * np.cos(np.radians(lat1))\n",
    "    \n",
    "    return delta_x, delta_y"
   ],
   "outputs": [],
   "execution_count": 80
  },
  {
   "metadata": {
    "ExecuteTime": {
     "end_time": "2024-07-23T05:13:00.463186Z",
     "start_time": "2024-07-23T05:13:00.456517Z"
    }
   },
   "cell_type": "code",
   "source": "np.sin(np.deg2rad(1)), np.sin(np.deg2rad(89))",
   "outputs": [
    {
     "data": {
      "text/plain": [
       "(0.01745240643728351, 0.9998476951563913)"
      ]
     },
     "execution_count": 81,
     "metadata": {},
     "output_type": "execute_result"
    }
   ],
   "execution_count": 81
  },
  {
   "cell_type": "code",
   "metadata": {
    "ExecuteTime": {
     "end_time": "2024-07-23T05:13:06.860366Z",
     "start_time": "2024-07-23T05:13:06.647227Z"
    }
   },
   "source": [
    "areas = np.zeros((89, 359))\n",
    "#reas = np.zeros((49, 23))\n",
    "\n",
    "for i in range(len(mlat) - 1):\n",
    "    for j in range(len(mlt) - 1):\n",
    "        lat1, lat2 = mlat[i], mlat[i + 1]\n",
    "        lon1, lon2 = mlt[j], mlt[j + 1]\n",
    "        \n",
    "        delta_x, delta_y = calculate_delta(lat1, lon1, lat2, lon2)\n",
    "        \n",
    "        area = delta_x * delta_y\n",
    "        areas[i, j] = area\n",
    "\n",
    "areas"
   ],
   "outputs": [
    {
     "data": {
      "text/plain": [
       "array([[12538.09600704, 12538.09600704, 12538.09600704, ...,\n",
       "        12538.09600704, 12538.09600704, 12538.09600704],\n",
       "       [12536.14324168, 12536.14324168, 12536.14324168, ...,\n",
       "        12536.14324168, 12536.14324168, 12536.14324168],\n",
       "       [12530.28555387, 12530.28555387, 12530.28555387, ...,\n",
       "        12530.28555387, 12530.28555387, 12530.28555387],\n",
       "       ...,\n",
       "       [  663.55934878,   663.55934878,   663.55934878, ...,\n",
       "          663.55934878,   663.55934878,   663.55934878],\n",
       "       [  442.48776268,   442.48776268,   442.48776268, ...,\n",
       "          442.48776268,   442.48776268,   442.48776268],\n",
       "       [  221.27834468,   221.27834468,   221.27834468, ...,\n",
       "          221.27834468,   221.27834468,   221.27834468]])"
      ]
     },
     "execution_count": 82,
     "metadata": {},
     "output_type": "execute_result"
    }
   ],
   "execution_count": 82
  },
  {
   "cell_type": "code",
   "metadata": {},
   "source": [
    "def weighted_loss(prediction, target, weights, dampening=1):\n",
    "\n",
    "    weights = weights**dampening #dampen weighted err\n",
    "    weights = weights / np.min(weights)  #normalize weights\n",
    "    \n",
    "    loss = prediction - target #MAE\n",
    "    weighted_loss = loss * weights \n",
    "\n",
    "    return weighted_loss\n",
    "\n",
    "target = np.ones((49, 23))\n",
    "prediction = target + 0.1\n",
    "weights = np.flipud(areas)\n",
    "\n",
    "weight_loss = weighted_loss(prediction, target, weights)\n",
    "weight_loss.min(), weight_loss.max()"
   ],
   "outputs": [],
   "execution_count": null
  },
  {
   "cell_type": "code",
   "metadata": {},
   "source": [
    "# Define common parameters\n",
    "theta = np.linspace(0, 360,23) - 90\n",
    "theta_rad = theta / 360 * 2 * np.pi\n",
    "r = 90 - np.linspace(50, 90, 49)\n",
    "shrink = .75\n",
    "\n",
    "# Plot true values\n",
    "#abs_error = np.flipud(abs_error) # flip the array upside down\n",
    "\n",
    "fig, ax = plt.subplots(subplot_kw={'projection': 'polar'}, figsize=(6,5))\n",
    "\n",
    "c_true = ax.contourf(theta_rad, r, np.flipud(weight_loss),  cmap='viridis_r', extend='both', levels=15, zorder=0)\n",
    "ax.set_yticks([0, 10, 20, 30, 40])\n",
    "ax.set_yticklabels([\"90°\", \"80°\", \"70°\", \"60°\", \"50° MLAT\"], color='red')\n",
    "ax.set_xlim([-np.pi, np.pi])\n",
    "ax.set_xticks(np.linspace(-np.pi, np.pi, 9)[1:])\n",
    "ax.set_xticklabels([\"21\", \"0 MLT \\nMidnight\", \"3\", \"6 \\n  Dawn\", \"9\", \"12 \\nMidday\", \"15\", \"18 \\nDusk\"])\n",
    "ax.set_title(f'Weighting Error Function (Dummy Data)')\n",
    "plt.colorbar(c_true, ax=ax, label=' MAE (weighted) [-]', shrink=shrink, pad=0.15, orientation='horizontal')\n",
    "ax.grid(True, linestyle='-', alpha=0.8)\n",
    "#plt.tight_layout()\n",
    "plt.savefig('/Users/sr2/My Drive/Career/Employment/Current/NIPR/Research/Assimilation/plots/weighted_MAE_AMP.png', dpi=400, bbox_inches='tight')"
   ],
   "outputs": [],
   "execution_count": null
  },
  {
   "cell_type": "code",
   "metadata": {},
   "source": [
    "# Define common parameters\n",
    "#r = 90 - np.linspace(53.1, 89.7, 29)\n",
    "#shrink = .7\n",
    "\n",
    "theta = np.linspace(0, 360, 23) - 90\n",
    "theta_rad = theta / 360 * 2 * np.pi\n",
    "r = 90 - np.linspace(40, 90, 49)\n",
    "shrink = .6\n",
    "\n",
    "fig, ax = plt.subplots(subplot_kw={'projection': 'polar'}, figsize=(6, 5))\n",
    "\n",
    "c_true = ax.contourf(theta_rad, r, areas, cmap='cividis_r', extend='both', levels=8, zorder=0)\n",
    "ax.set_ylim([0, 39])\n",
    "ax.set_yticks([0, 10, 20, 30, 40])\n",
    "ax.set_yticklabels([\"90°\", \"80°\", \"70°\", \"60°\", \"50° MLAT\"], color='red')\n",
    "ax.set_xlim([-np.pi, np.pi])\n",
    "ax.set_xlim([-np.pi, np.pi])\n",
    "ax.set_xticks(np.linspace(-np.pi, np.pi, 9)[1:])\n",
    "ax.set_xticklabels([\"21\", \"0 MLT \\nMidnight\", \"3\", \"6 \\n  Dawn\", \"9\", \"12 \\nMidday\", \"15\", \"18 \\nDusk\"])\n",
    "a_min = int(areas.min())\n",
    "a_max = int(areas.max())\n",
    "ax.set_title(f'Area (AMPERE) \\n Min: {a_min} km, Max: {a_max} km', linespacing=1.3)\n",
    "km2 = r'$\\mathrm{km^2}$'\n",
    "plt.colorbar(c_true, ax=ax, label=f'Area [{km2}]', shrink=shrink, pad=0.15, orientation='vertical')\n",
    "ax.grid(True, linestyle='-', alpha=0.3)\n",
    "#plt.tight_layout()\n",
    "plt.savefig('/Users/sr2/My Drive/Career/Employment/Current/NIPR/Research/Assimilation/plots/Area_AMP.png',\n",
    "            dpi=400, bbox_inches='tight')"
   ],
   "outputs": [],
   "execution_count": null
  }
 ],
 "metadata": {
  "kernelspec": {
   "display_name": "torch_env",
   "language": "python",
   "name": "python3"
  },
  "language_info": {
   "codemirror_mode": {
    "name": "ipython",
    "version": 3
   },
   "file_extension": ".py",
   "mimetype": "text/x-python",
   "name": "python",
   "nbconvert_exporter": "python",
   "pygments_lexer": "ipython3",
   "version": "3.12.3"
  }
 },
 "nbformat": 4,
 "nbformat_minor": 2
}
