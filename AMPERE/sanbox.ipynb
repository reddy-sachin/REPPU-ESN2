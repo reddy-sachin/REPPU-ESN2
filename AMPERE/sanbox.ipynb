{
 "cells": [
  {
   "cell_type": "code",
   "execution_count": 13,
   "metadata": {
    "ExecuteTime": {
     "end_time": "2024-07-23T05:31:41.618417Z",
     "start_time": "2024-07-23T05:31:41.613601Z"
    }
   },
   "outputs": [],
   "source": [
    "import numpy as np\n"
   ]
  },
  {
   "cell_type": "code",
   "execution_count": 100,
   "metadata": {
    "ExecuteTime": {
     "end_time": "2024-07-23T06:21:24.031811Z",
     "start_time": "2024-07-23T06:21:24.021550Z"
    }
   },
   "outputs": [
    {
     "name": "stdout",
     "output_type": "stream",
     "text": [
      "ε: 21.80652136406873 GW\n"
     ]
    }
   ],
   "source": [
    "v_sw = 1200\n",
    "Bx = 1 * 1e-9 #GSM\n",
    "By = -2 * 1e-9 #GSM\n",
    "Bz = -50 * 1e-9 #GSM\n",
    "B = np.sqrt(Bx**2 + By**2 + Bz**2)\n",
    "mu_0 = np.pi * 4 * 10e-8\n",
    "l_0 = 6371 * 1000 * 7 #7 R_E\n",
    "\n",
    "def clock_angle(By, Bz):\n",
    "    angle = np.rad2deg(np.arctan2(By, Bz))\n",
    "    np.where(angle < 0, angle + 360, angle)\n",
    "    return angle\n",
    "\n",
    "def clock_length(By, Bz):\n",
    "    return np.sqrt(By**2 + Bz**2)\n",
    "\n",
    "def cross_polar_cap_pot(Vsw, B, theta):\n",
    "    #from https://agupubs.onlinelibrary.wiley.com/doi/epdf/10.1029/96JA01742\n",
    "    #and  https://www.sws.bom.gov.au/Category/Solar/Solar%20Conditions/Solar%20Wind%20Clock%20Angle/Solar%20Wind%20Clock%20Angle.php\n",
    "    return 10e-4 * Vsw**2 + 11.7 * B * (np.sin(np.deg2rad(theta)/2))**3\n",
    "\n",
    "theta = clock_angle(By, Bz)\n",
    "length = clock_length(By, Bz)\n",
    "CPCP = cross_polar_cap_pot(v_sw, length, theta)\n",
    "\n",
    "epsilon_W = (4 * np.pi / mu_0) * v_sw * B**2 * np.sin(theta / 2)**4 * l_0**2\n",
    "\n",
    "print(f\"ε: {epsilon_W/1e9} GW\") #1 watt = 1 Joules"
   ]
  },
  {
   "cell_type": "code",
   "execution_count": 13,
   "metadata": {
    "ExecuteTime": {
     "end_time": "2024-07-23T06:21:32.007145Z",
     "start_time": "2024-07-23T06:21:31.998225Z"
    }
   },
   "outputs": [
    {
     "data": {
      "text/plain": [
       "(array([[ 1,  2,  3,  4,  5,  6,  7,  8,  9, 10],\n",
       "        [ 2,  3,  4,  5,  6,  7,  8,  9, 10, 11],\n",
       "        [ 3,  4,  5,  6,  7,  8,  9, 10, 11, 12],\n",
       "        [ 4,  5,  6,  7,  8,  9, 10, 11, 12, 13],\n",
       "        [ 5,  6,  7,  8,  9, 10, 11, 12, 13, 14],\n",
       "        [ 6,  7,  8,  9, 10, 11, 12, 13, 14, 15],\n",
       "        [ 7,  8,  9, 10, 11, 12, 13, 14, 15, 16],\n",
       "        [ 8,  9, 10, 11, 12, 13, 14, 15, 16, 17],\n",
       "        [ 9, 10, 11, 12, 13, 14, 15, 16, 17, 18],\n",
       "        [10, 11, 12, 13, 14, 15, 16, 17, 18, 19]]),\n",
       " array([110, 111, 112, 113, 114, 115, 116, 117, 118, 119]))"
      ]
     },
     "execution_count": 13,
     "metadata": {},
     "output_type": "execute_result"
    }
   ],
   "source": [
    "import numpy as np\n",
    "\n",
    "def create_sequences(target_data, input_data, lookback=30):\n",
    "    X, y = [], []\n",
    "    for i in range(len(target_data) - lookback):\n",
    "        X.append(input_data[i:i+lookback].T)\n",
    "        y.append(target_data[i+lookback])\n",
    "\n",
    "    return np.array(X), np.array(y)\n",
    "\n",
    "\n",
    "target_data = np.arange(100,120,1)\n",
    "input_data = np.arange(1,20,1)\n",
    "\n",
    "create_sequences(target_data, input_data, lookback=10)"
   ]
  }
 ],
 "metadata": {
  "kernelspec": {
   "display_name": "torch_env",
   "language": "python",
   "name": "python3"
  },
  "language_info": {
   "codemirror_mode": {
    "name": "ipython",
    "version": 3
   },
   "file_extension": ".py",
   "mimetype": "text/x-python",
   "name": "python",
   "nbconvert_exporter": "python",
   "pygments_lexer": "ipython3",
   "version": "3.12.3"
  }
 },
 "nbformat": 4,
 "nbformat_minor": 2
}
