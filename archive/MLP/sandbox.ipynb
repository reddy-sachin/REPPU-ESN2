{
 "cells": [
  {
   "cell_type": "code",
   "execution_count": 1,
   "metadata": {},
   "outputs": [],
   "source": [
    "import numpy as np"
   ]
  },
  {
   "cell_type": "code",
   "execution_count": 29,
   "metadata": {},
   "outputs": [],
   "source": [
    "a = np.array([1, 0, 3])\n",
    "b = np.array([1, 0, 4])"
   ]
  },
  {
   "cell_type": "code",
   "execution_count": 30,
   "metadata": {},
   "outputs": [
    {
     "name": "stdout",
     "output_type": "stream",
     "text": [
      "1\n",
      "0.9958705948858223\n",
      "0.9958705948858223\n"
     ]
    }
   ],
   "source": [
    "#compare two arrays with manual version of R\n",
    "\n",
    "def compare(a, b):\n",
    "    n = len(a)\n",
    "    diff = 0\n",
    "    for i in range(n):\n",
    "        diff += (a[i] - b[i]) ** 2\n",
    "    return diff\n",
    "\n",
    "print(compare(a, b))\n",
    "print(np.corrcoef(a, b)[0, 1])\n",
    "print(np.corrcoef(a, b)[1, 0])\n"
   ]
  }
 ],
 "metadata": {
  "kernelspec": {
   "display_name": "torch_env",
   "language": "python",
   "name": "python3"
  },
  "language_info": {
   "codemirror_mode": {
    "name": "ipython",
    "version": 3
   },
   "file_extension": ".py",
   "mimetype": "text/x-python",
   "name": "python",
   "nbconvert_exporter": "python",
   "pygments_lexer": "ipython3",
   "version": "3.12.3"
  }
 },
 "nbformat": 4,
 "nbformat_minor": 2
}
