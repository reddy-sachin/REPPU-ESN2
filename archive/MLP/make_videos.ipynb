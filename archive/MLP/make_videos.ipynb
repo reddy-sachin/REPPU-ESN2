{
 "cells": [
  {
   "cell_type": "code",
   "execution_count": 1,
   "metadata": {},
   "outputs": [],
   "source": [
    "import imageio\n",
    "import os"
   ]
  },
  {
   "cell_type": "code",
   "execution_count": 5,
   "metadata": {},
   "outputs": [
    {
     "name": "stderr",
     "output_type": "stream",
     "text": [
      "IMAGEIO FFMPEG_WRITER WARNING: input image is not divisible by macro_block_size=16, resizing from (4165, 1680) to (4176, 1680) to ensure video compatibility with most codecs and players. To prevent resizing, make your input image divisible by the macro_block_size or set the macro_block_size to 1 (risking incompatibility).\n",
      "[swscaler @ 0x5c0d580] Warning: data is not aligned! This can lead to a speed loss\n"
     ]
    }
   ],
   "source": [
    "#folder_path = r'/home/sachin/Documents/NIPR/Research/Analysis/May-24/plots/potential/2021-05-10/'\n",
    "folder_path = r'/home/sachin/Documents/NIPR/Research/Analysis/June-24/plots/conductivity/2022-01-30/xy/'\n",
    "\n",
    "png_files = [f for f in os.listdir(folder_path) if f.endswith('.png')]\n",
    "#sort png_files in reverse order\n",
    "png_files.sort(reverse=False)\n",
    "\n",
    "images = []\n",
    "for file_name in png_files:\n",
    "    image = imageio.v2.imread(os.path.join(folder_path, file_name))\n",
    "    images.append(image)\n",
    "\n",
    "imageio.mimsave('/home/sachin/Documents/NIPR/Research/Analysis/June-24/plots/conductivity/2022-01-30/xy-cond-panel.mp4', images, fps=12)"
   ]
  }
 ],
 "metadata": {
  "kernelspec": {
   "display_name": "nipr_env",
   "language": "python",
   "name": "python3"
  },
  "language_info": {
   "codemirror_mode": {
    "name": "ipython",
    "version": 3
   },
   "file_extension": ".py",
   "mimetype": "text/x-python",
   "name": "python",
   "nbconvert_exporter": "python",
   "pygments_lexer": "ipython3",
   "version": "3.12.3"
  }
 },
 "nbformat": 4,
 "nbformat_minor": 2
}
