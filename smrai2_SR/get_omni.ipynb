{
 "cells": [
  {
   "cell_type": "code",
   "execution_count": 1,
   "metadata": {
    "ExecuteTime": {
     "end_time": "2024-07-08T23:25:25.221102Z",
     "start_time": "2024-07-08T23:25:25.211973Z"
    }
   },
   "outputs": [
    {
     "name": "stdout",
     "output_type": "stream",
     "text": [
      "Load IGRF coefficients ...\n"
     ]
    }
   ],
   "source": [
    "from hapiclient import hapi, hapitime2datetime\n",
    "import numpy as np\n",
    "import pandas as pd\n",
    "import matplotlib.pyplot as plt\n",
    "import seaborn as sns\n",
    "import datetime as dt\n",
    "import calendar\n",
    "from geopack import geopack\n",
    "import datetime as datetime"
   ]
  },
  {
   "cell_type": "code",
   "execution_count": 2,
   "metadata": {
    "ExecuteTime": {
     "end_time": "2024-07-08T23:25:26.889886Z",
     "start_time": "2024-07-08T23:25:26.884891Z"
    }
   },
   "outputs": [],
   "source": [
    "def fetch_omni_data(params,data, start, stop):\n",
    "    server      = 'https://cdaweb.gsfc.nasa.gov/hapi'\n",
    "    dataset     = data\n",
    "    parameters  = params\n",
    "    data, meta  = hapi(server, dataset, parameters, start, stop)\n",
    "\n",
    "    return data"
   ]
  },
  {
   "cell_type": "code",
   "execution_count": 3,
   "metadata": {
    "ExecuteTime": {
     "end_time": "2024-07-08T23:25:28.735971Z",
     "start_time": "2024-07-08T23:25:28.721577Z"
    }
   },
   "outputs": [],
   "source": [
    "def extract_data(data, params):\n",
    "\n",
    "    header = params.split(',')\n",
    "    header.insert(0, 'Timestamp')\n",
    "\n",
    "    #extract the data from the list\n",
    "    extracted_data = [[x[i] for x in data] for i in range(len(header))]\n",
    "\n",
    "    #create a dictionary and convert to dataframe using param names as headers\n",
    "    df_dict = {header: values for header, values in zip(header, extracted_data)}\n",
    "    df = pd.DataFrame(df_dict).set_index('Timestamp')\n",
    "\n",
    "    #convert to datetime from '\\b' time\n",
    "    df.index = hapitime2datetime(df.index.values.astype(str))\n",
    "    df.index = df.index.tz_convert(\"UTC\").tz_convert(None)\n",
    "\n",
    "\n",
    "    return df"
   ]
  },
  {
   "cell_type": "code",
   "execution_count": 4,
   "metadata": {
    "ExecuteTime": {
     "end_time": "2024-07-08T23:25:30.733682Z",
     "start_time": "2024-07-08T23:25:30.727518Z"
    }
   },
   "outputs": [],
   "source": [
    "def extract_omni_1min(data, params):\n",
    "\n",
    "    df = extract_data(data, params)\n",
    "    df['Timestamp_1min_omni'] = df.index\n",
    "    df['Timestamp_1hr_omni'] = pd.to_datetime(df['Timestamp_1min_omni'], errors='coerce').dt.floor('1h')\n",
    "    df = df.reset_index(drop=True)\n",
    "    \n",
    "    return df\n"
   ]
  },
  {
   "cell_type": "code",
   "execution_count": 5,
   "metadata": {
    "ExecuteTime": {
     "end_time": "2024-07-08T23:25:32.845946Z",
     "start_time": "2024-07-08T23:25:32.836837Z"
    }
   },
   "outputs": [],
   "source": [
    "def extract_omni_1hr(params, data):\n",
    "\n",
    "    df = extract_data(data, params)\n",
    "\n",
    "    df['Timestamp_1hr_omni'] = df.index\n",
    "    df['Timestamp_1hr_omni'] = pd.to_datetime(df['Timestamp_1hr_omni'], errors='coerce').dt.floor('1h')\n",
    "\n",
    "    df = df.reset_index(drop=True)\n",
    "    \n",
    "    return df"
   ]
  },
  {
   "cell_type": "code",
   "execution_count": 7,
   "metadata": {
    "ExecuteTime": {
     "end_time": "2024-07-08T23:27:31.650637Z",
     "start_time": "2024-07-08T23:27:24.322698Z"
    }
   },
   "outputs": [
    {
     "name": "stdout",
     "output_type": "stream",
     "text": [
      "Processing:  2013 5\n"
     ]
    },
    {
     "data": {
      "text/html": [
       "<div>\n",
       "<style scoped>\n",
       "    .dataframe tbody tr th:only-of-type {\n",
       "        vertical-align: middle;\n",
       "    }\n",
       "\n",
       "    .dataframe tbody tr th {\n",
       "        vertical-align: top;\n",
       "    }\n",
       "\n",
       "    .dataframe thead th {\n",
       "        text-align: right;\n",
       "    }\n",
       "</style>\n",
       "<table border=\"1\" class=\"dataframe\">\n",
       "  <thead>\n",
       "    <tr style=\"text-align: right;\">\n",
       "      <th></th>\n",
       "      <th>BY_GSE</th>\n",
       "      <th>BZ_GSE</th>\n",
       "      <th>flow_speed</th>\n",
       "      <th>proton_density</th>\n",
       "      <th>Timestamp_1min_omni</th>\n",
       "      <th>Timestamp_1hr_omni</th>\n",
       "      <th>F10.7</th>\n",
       "      <th>Kp</th>\n",
       "    </tr>\n",
       "  </thead>\n",
       "  <tbody>\n",
       "    <tr>\n",
       "      <th>0</th>\n",
       "      <td>-6.47</td>\n",
       "      <td>-0.88</td>\n",
       "      <td>99999.900000</td>\n",
       "      <td>999.990000</td>\n",
       "      <td>2013-05-01 00:00:00</td>\n",
       "      <td>2013-05-01 00:00:00</td>\n",
       "      <td>161.699997</td>\n",
       "      <td>27</td>\n",
       "    </tr>\n",
       "    <tr>\n",
       "      <th>1</th>\n",
       "      <td>-4.74</td>\n",
       "      <td>-1.56</td>\n",
       "      <td>99999.900000</td>\n",
       "      <td>999.990000</td>\n",
       "      <td>2013-05-01 00:01:00</td>\n",
       "      <td>2013-05-01 00:00:00</td>\n",
       "      <td>161.699997</td>\n",
       "      <td>27</td>\n",
       "    </tr>\n",
       "    <tr>\n",
       "      <th>2</th>\n",
       "      <td>-7.73</td>\n",
       "      <td>0.18</td>\n",
       "      <td>99999.900000</td>\n",
       "      <td>999.990000</td>\n",
       "      <td>2013-05-01 00:02:00</td>\n",
       "      <td>2013-05-01 00:00:00</td>\n",
       "      <td>161.699997</td>\n",
       "      <td>27</td>\n",
       "    </tr>\n",
       "    <tr>\n",
       "      <th>3</th>\n",
       "      <td>-4.49</td>\n",
       "      <td>-1.52</td>\n",
       "      <td>99999.900000</td>\n",
       "      <td>999.990000</td>\n",
       "      <td>2013-05-01 00:03:00</td>\n",
       "      <td>2013-05-01 00:00:00</td>\n",
       "      <td>161.699997</td>\n",
       "      <td>27</td>\n",
       "    </tr>\n",
       "    <tr>\n",
       "      <th>4</th>\n",
       "      <td>-6.10</td>\n",
       "      <td>-0.34</td>\n",
       "      <td>380.299988</td>\n",
       "      <td>3.460000</td>\n",
       "      <td>2013-05-01 00:04:00</td>\n",
       "      <td>2013-05-01 00:00:00</td>\n",
       "      <td>161.699997</td>\n",
       "      <td>27</td>\n",
       "    </tr>\n",
       "    <tr>\n",
       "      <th>...</th>\n",
       "      <td>...</td>\n",
       "      <td>...</td>\n",
       "      <td>...</td>\n",
       "      <td>...</td>\n",
       "      <td>...</td>\n",
       "      <td>...</td>\n",
       "      <td>...</td>\n",
       "      <td>...</td>\n",
       "    </tr>\n",
       "    <tr>\n",
       "      <th>44635</th>\n",
       "      <td>-7.16</td>\n",
       "      <td>6.36</td>\n",
       "      <td>400.200012</td>\n",
       "      <td>29.990000</td>\n",
       "      <td>2013-05-31 23:55:00</td>\n",
       "      <td>2013-05-31 23:00:00</td>\n",
       "      <td>104.699997</td>\n",
       "      <td>37</td>\n",
       "    </tr>\n",
       "    <tr>\n",
       "      <th>44636</th>\n",
       "      <td>-6.84</td>\n",
       "      <td>6.68</td>\n",
       "      <td>99999.900000</td>\n",
       "      <td>999.990000</td>\n",
       "      <td>2013-05-31 23:56:00</td>\n",
       "      <td>2013-05-31 23:00:00</td>\n",
       "      <td>104.699997</td>\n",
       "      <td>37</td>\n",
       "    </tr>\n",
       "    <tr>\n",
       "      <th>44637</th>\n",
       "      <td>9999.99</td>\n",
       "      <td>9999.99</td>\n",
       "      <td>400.600006</td>\n",
       "      <td>28.120001</td>\n",
       "      <td>2013-05-31 23:57:00</td>\n",
       "      <td>2013-05-31 23:00:00</td>\n",
       "      <td>104.699997</td>\n",
       "      <td>37</td>\n",
       "    </tr>\n",
       "    <tr>\n",
       "      <th>44638</th>\n",
       "      <td>-7.19</td>\n",
       "      <td>6.42</td>\n",
       "      <td>400.600006</td>\n",
       "      <td>28.120001</td>\n",
       "      <td>2013-05-31 23:58:00</td>\n",
       "      <td>2013-05-31 23:00:00</td>\n",
       "      <td>104.699997</td>\n",
       "      <td>37</td>\n",
       "    </tr>\n",
       "    <tr>\n",
       "      <th>44639</th>\n",
       "      <td>-7.05</td>\n",
       "      <td>6.55</td>\n",
       "      <td>400.600006</td>\n",
       "      <td>28.650000</td>\n",
       "      <td>2013-05-31 23:59:00</td>\n",
       "      <td>2013-05-31 23:00:00</td>\n",
       "      <td>104.699997</td>\n",
       "      <td>37</td>\n",
       "    </tr>\n",
       "  </tbody>\n",
       "</table>\n",
       "<p>44640 rows × 8 columns</p>\n",
       "</div>"
      ],
      "text/plain": [
       "        BY_GSE   BZ_GSE    flow_speed  proton_density Timestamp_1min_omni  \\\n",
       "0        -6.47    -0.88  99999.900000      999.990000 2013-05-01 00:00:00   \n",
       "1        -4.74    -1.56  99999.900000      999.990000 2013-05-01 00:01:00   \n",
       "2        -7.73     0.18  99999.900000      999.990000 2013-05-01 00:02:00   \n",
       "3        -4.49    -1.52  99999.900000      999.990000 2013-05-01 00:03:00   \n",
       "4        -6.10    -0.34    380.299988        3.460000 2013-05-01 00:04:00   \n",
       "...        ...      ...           ...             ...                 ...   \n",
       "44635    -7.16     6.36    400.200012       29.990000 2013-05-31 23:55:00   \n",
       "44636    -6.84     6.68  99999.900000      999.990000 2013-05-31 23:56:00   \n",
       "44637  9999.99  9999.99    400.600006       28.120001 2013-05-31 23:57:00   \n",
       "44638    -7.19     6.42    400.600006       28.120001 2013-05-31 23:58:00   \n",
       "44639    -7.05     6.55    400.600006       28.650000 2013-05-31 23:59:00   \n",
       "\n",
       "       Timestamp_1hr_omni       F10.7  Kp  \n",
       "0     2013-05-01 00:00:00  161.699997  27  \n",
       "1     2013-05-01 00:00:00  161.699997  27  \n",
       "2     2013-05-01 00:00:00  161.699997  27  \n",
       "3     2013-05-01 00:00:00  161.699997  27  \n",
       "4     2013-05-01 00:00:00  161.699997  27  \n",
       "...                   ...         ...  ..  \n",
       "44635 2013-05-31 23:00:00  104.699997  37  \n",
       "44636 2013-05-31 23:00:00  104.699997  37  \n",
       "44637 2013-05-31 23:00:00  104.699997  37  \n",
       "44638 2013-05-31 23:00:00  104.699997  37  \n",
       "44639 2013-05-31 23:00:00  104.699997  37  \n",
       "\n",
       "[44640 rows x 8 columns]"
      ]
     },
     "execution_count": 7,
     "metadata": {},
     "output_type": "execute_result"
    }
   ],
   "source": [
    "omni_1min = \"OMNI_HRO2_1MIN\"\n",
    "#omni_1min_params = 'percent_interp,BY_GSE,BZ_GSE,flow_speed,proton_density,T,Pressure,E,Mach_num,BSN_x,BSN_y,BSN_z,SYM_H'\n",
    "omni_1min_params = 'BY_GSE,BZ_GSE,flow_speed,proton_density'\n",
    "\n",
    "\n",
    "omni_1hr = \"OMNI2_H0_MRG1HR\"\n",
    "omni_1hr_params = 'F10_INDEX1800,KP1800'\n",
    "\n",
    "#Pressure = flow pressure in nPa\n",
    "\n",
    "#yr = 2021\n",
    "months = []\n",
    "years = [2013]\n",
    "for year in years:\n",
    "    for month in range(5,6):\n",
    "\n",
    "        print('Processing: ',year, month)\n",
    "\n",
    "        _, num_days = calendar.monthrange(year, month)\n",
    "        #num_days = 2\n",
    "\n",
    "        start_time = f'{year}-{month:02d}-{1:02d}T00:00:000Z'\n",
    "        end_time = f'{year}-{month:02d}-{num_days:02d}T23:59:59Z'\n",
    "\n",
    "        #download the data then clean it\n",
    "        omni_1min_data = fetch_omni_data(omni_1min_params, omni_1min, start_time, end_time)\n",
    "        omni_1min_df = extract_omni_1min(omni_1min_data, omni_1min_params)\n",
    "\n",
    "        omni_1hr_data = fetch_omni_data(omni_1hr_params,omni_1hr, start_time, end_time)\n",
    "        omni_1hr_df = extract_omni_1hr(omni_1hr_params, omni_1hr_data)\n",
    "\n",
    "        df = pd.merge(omni_1min_df, omni_1hr_df, on='Timestamp_1hr_omni', how='left')\n",
    "        df = df.rename(columns={'F10_INDEX1800':'F10.7', 'KP1800':'Kp'})\n",
    "        months.append(df)\n",
    "\n",
    "months_df = pd.concat(months)\n",
    "\n",
    "def calculate_tilt_angle(row):\n",
    "    t0 = datetime.datetime(1970, 1, 1)\n",
    "    t1 = row['Timestamp_1min_omni']\n",
    "    tdiff = (t1 - t0).total_seconds()\n",
    "    tilt_angle = geopack.recalc(tdiff) # Calculate dipole tilt angle\n",
    "    \n",
    "    return tilt_angle\n",
    "\n",
    "#months_df['tilt_angle'] = months_df.apply(calculate_tilt_angle, axis=1)\n",
    "\n",
    "months_df = months_df.reset_index(drop=True)\n",
    "\n",
    "#export_path = f'/Users/sr2/My Drive/Career/Employment/Current/JSPS/Research/Analysis/Apr-24/data/omni/' #macbook\n",
    "#export_path = f'/home/ryuho/Documents/reddy/research/SMRAI/Data/OMNI/' #linux\n",
    "export_path = f'/home/sachin/Documents/NIPR/Research/Data/OMNI/' #server\n",
    "\n",
    "df_name = f'omni_hro_1min_2013-05'\n",
    "export_filename = export_path + df_name +'.csv'\n",
    "months_df.to_csv(export_filename, index=False, header=True)\n",
    "months_df\n",
    "        "
   ]
  },
  {
   "cell_type": "code",
   "execution_count": 9,
   "metadata": {},
   "outputs": [
    {
     "ename": "FileNotFoundError",
     "evalue": "[Errno 2] No such file or directory: 'omni_hro_1min_2013-05.csv'",
     "output_type": "error",
     "traceback": [
      "\u001b[0;31m---------------------------------------------------------------------------\u001b[0m",
      "\u001b[0;31mFileNotFoundError\u001b[0m                         Traceback (most recent call last)",
      "Cell \u001b[0;32mIn[9], line 3\u001b[0m\n\u001b[1;32m      1\u001b[0m \u001b[38;5;66;03m#import_path=r'/Users/sr2/My Drive/Career/Employment/Current/JSPS/Research/Analysis/Apr-24/data/omni/omni_hro_5min_2021-2022.csv'\u001b[39;00m\n\u001b[1;32m      2\u001b[0m import_path \u001b[38;5;241m=\u001b[39m \u001b[38;5;124mr\u001b[39m\u001b[38;5;124m'\u001b[39m\u001b[38;5;124momni_hro_1min_2013-05.csv\u001b[39m\u001b[38;5;124m'\u001b[39m\n\u001b[0;32m----> 3\u001b[0m omni_df \u001b[38;5;241m=\u001b[39m \u001b[43mpd\u001b[49m\u001b[38;5;241;43m.\u001b[39;49m\u001b[43mread_csv\u001b[49m\u001b[43m(\u001b[49m\u001b[43mimport_path\u001b[49m\u001b[43m)\u001b[49m\n\u001b[1;32m      4\u001b[0m omni_df\n",
      "File \u001b[0;32m~/miniconda3/envs/torch_env/lib/python3.12/site-packages/pandas/io/parsers/readers.py:1026\u001b[0m, in \u001b[0;36mread_csv\u001b[0;34m(filepath_or_buffer, sep, delimiter, header, names, index_col, usecols, dtype, engine, converters, true_values, false_values, skipinitialspace, skiprows, skipfooter, nrows, na_values, keep_default_na, na_filter, verbose, skip_blank_lines, parse_dates, infer_datetime_format, keep_date_col, date_parser, date_format, dayfirst, cache_dates, iterator, chunksize, compression, thousands, decimal, lineterminator, quotechar, quoting, doublequote, escapechar, comment, encoding, encoding_errors, dialect, on_bad_lines, delim_whitespace, low_memory, memory_map, float_precision, storage_options, dtype_backend)\u001b[0m\n\u001b[1;32m   1013\u001b[0m kwds_defaults \u001b[38;5;241m=\u001b[39m _refine_defaults_read(\n\u001b[1;32m   1014\u001b[0m     dialect,\n\u001b[1;32m   1015\u001b[0m     delimiter,\n\u001b[0;32m   (...)\u001b[0m\n\u001b[1;32m   1022\u001b[0m     dtype_backend\u001b[38;5;241m=\u001b[39mdtype_backend,\n\u001b[1;32m   1023\u001b[0m )\n\u001b[1;32m   1024\u001b[0m kwds\u001b[38;5;241m.\u001b[39mupdate(kwds_defaults)\n\u001b[0;32m-> 1026\u001b[0m \u001b[38;5;28;01mreturn\u001b[39;00m \u001b[43m_read\u001b[49m\u001b[43m(\u001b[49m\u001b[43mfilepath_or_buffer\u001b[49m\u001b[43m,\u001b[49m\u001b[43m \u001b[49m\u001b[43mkwds\u001b[49m\u001b[43m)\u001b[49m\n",
      "File \u001b[0;32m~/miniconda3/envs/torch_env/lib/python3.12/site-packages/pandas/io/parsers/readers.py:620\u001b[0m, in \u001b[0;36m_read\u001b[0;34m(filepath_or_buffer, kwds)\u001b[0m\n\u001b[1;32m    617\u001b[0m _validate_names(kwds\u001b[38;5;241m.\u001b[39mget(\u001b[38;5;124m\"\u001b[39m\u001b[38;5;124mnames\u001b[39m\u001b[38;5;124m\"\u001b[39m, \u001b[38;5;28;01mNone\u001b[39;00m))\n\u001b[1;32m    619\u001b[0m \u001b[38;5;66;03m# Create the parser.\u001b[39;00m\n\u001b[0;32m--> 620\u001b[0m parser \u001b[38;5;241m=\u001b[39m \u001b[43mTextFileReader\u001b[49m\u001b[43m(\u001b[49m\u001b[43mfilepath_or_buffer\u001b[49m\u001b[43m,\u001b[49m\u001b[43m \u001b[49m\u001b[38;5;241;43m*\u001b[39;49m\u001b[38;5;241;43m*\u001b[39;49m\u001b[43mkwds\u001b[49m\u001b[43m)\u001b[49m\n\u001b[1;32m    622\u001b[0m \u001b[38;5;28;01mif\u001b[39;00m chunksize \u001b[38;5;129;01mor\u001b[39;00m iterator:\n\u001b[1;32m    623\u001b[0m     \u001b[38;5;28;01mreturn\u001b[39;00m parser\n",
      "File \u001b[0;32m~/miniconda3/envs/torch_env/lib/python3.12/site-packages/pandas/io/parsers/readers.py:1620\u001b[0m, in \u001b[0;36mTextFileReader.__init__\u001b[0;34m(self, f, engine, **kwds)\u001b[0m\n\u001b[1;32m   1617\u001b[0m     \u001b[38;5;28mself\u001b[39m\u001b[38;5;241m.\u001b[39moptions[\u001b[38;5;124m\"\u001b[39m\u001b[38;5;124mhas_index_names\u001b[39m\u001b[38;5;124m\"\u001b[39m] \u001b[38;5;241m=\u001b[39m kwds[\u001b[38;5;124m\"\u001b[39m\u001b[38;5;124mhas_index_names\u001b[39m\u001b[38;5;124m\"\u001b[39m]\n\u001b[1;32m   1619\u001b[0m \u001b[38;5;28mself\u001b[39m\u001b[38;5;241m.\u001b[39mhandles: IOHandles \u001b[38;5;241m|\u001b[39m \u001b[38;5;28;01mNone\u001b[39;00m \u001b[38;5;241m=\u001b[39m \u001b[38;5;28;01mNone\u001b[39;00m\n\u001b[0;32m-> 1620\u001b[0m \u001b[38;5;28mself\u001b[39m\u001b[38;5;241m.\u001b[39m_engine \u001b[38;5;241m=\u001b[39m \u001b[38;5;28;43mself\u001b[39;49m\u001b[38;5;241;43m.\u001b[39;49m\u001b[43m_make_engine\u001b[49m\u001b[43m(\u001b[49m\u001b[43mf\u001b[49m\u001b[43m,\u001b[49m\u001b[43m \u001b[49m\u001b[38;5;28;43mself\u001b[39;49m\u001b[38;5;241;43m.\u001b[39;49m\u001b[43mengine\u001b[49m\u001b[43m)\u001b[49m\n",
      "File \u001b[0;32m~/miniconda3/envs/torch_env/lib/python3.12/site-packages/pandas/io/parsers/readers.py:1880\u001b[0m, in \u001b[0;36mTextFileReader._make_engine\u001b[0;34m(self, f, engine)\u001b[0m\n\u001b[1;32m   1878\u001b[0m     \u001b[38;5;28;01mif\u001b[39;00m \u001b[38;5;124m\"\u001b[39m\u001b[38;5;124mb\u001b[39m\u001b[38;5;124m\"\u001b[39m \u001b[38;5;129;01mnot\u001b[39;00m \u001b[38;5;129;01min\u001b[39;00m mode:\n\u001b[1;32m   1879\u001b[0m         mode \u001b[38;5;241m+\u001b[39m\u001b[38;5;241m=\u001b[39m \u001b[38;5;124m\"\u001b[39m\u001b[38;5;124mb\u001b[39m\u001b[38;5;124m\"\u001b[39m\n\u001b[0;32m-> 1880\u001b[0m \u001b[38;5;28mself\u001b[39m\u001b[38;5;241m.\u001b[39mhandles \u001b[38;5;241m=\u001b[39m \u001b[43mget_handle\u001b[49m\u001b[43m(\u001b[49m\n\u001b[1;32m   1881\u001b[0m \u001b[43m    \u001b[49m\u001b[43mf\u001b[49m\u001b[43m,\u001b[49m\n\u001b[1;32m   1882\u001b[0m \u001b[43m    \u001b[49m\u001b[43mmode\u001b[49m\u001b[43m,\u001b[49m\n\u001b[1;32m   1883\u001b[0m \u001b[43m    \u001b[49m\u001b[43mencoding\u001b[49m\u001b[38;5;241;43m=\u001b[39;49m\u001b[38;5;28;43mself\u001b[39;49m\u001b[38;5;241;43m.\u001b[39;49m\u001b[43moptions\u001b[49m\u001b[38;5;241;43m.\u001b[39;49m\u001b[43mget\u001b[49m\u001b[43m(\u001b[49m\u001b[38;5;124;43m\"\u001b[39;49m\u001b[38;5;124;43mencoding\u001b[39;49m\u001b[38;5;124;43m\"\u001b[39;49m\u001b[43m,\u001b[49m\u001b[43m \u001b[49m\u001b[38;5;28;43;01mNone\u001b[39;49;00m\u001b[43m)\u001b[49m\u001b[43m,\u001b[49m\n\u001b[1;32m   1884\u001b[0m \u001b[43m    \u001b[49m\u001b[43mcompression\u001b[49m\u001b[38;5;241;43m=\u001b[39;49m\u001b[38;5;28;43mself\u001b[39;49m\u001b[38;5;241;43m.\u001b[39;49m\u001b[43moptions\u001b[49m\u001b[38;5;241;43m.\u001b[39;49m\u001b[43mget\u001b[49m\u001b[43m(\u001b[49m\u001b[38;5;124;43m\"\u001b[39;49m\u001b[38;5;124;43mcompression\u001b[39;49m\u001b[38;5;124;43m\"\u001b[39;49m\u001b[43m,\u001b[49m\u001b[43m \u001b[49m\u001b[38;5;28;43;01mNone\u001b[39;49;00m\u001b[43m)\u001b[49m\u001b[43m,\u001b[49m\n\u001b[1;32m   1885\u001b[0m \u001b[43m    \u001b[49m\u001b[43mmemory_map\u001b[49m\u001b[38;5;241;43m=\u001b[39;49m\u001b[38;5;28;43mself\u001b[39;49m\u001b[38;5;241;43m.\u001b[39;49m\u001b[43moptions\u001b[49m\u001b[38;5;241;43m.\u001b[39;49m\u001b[43mget\u001b[49m\u001b[43m(\u001b[49m\u001b[38;5;124;43m\"\u001b[39;49m\u001b[38;5;124;43mmemory_map\u001b[39;49m\u001b[38;5;124;43m\"\u001b[39;49m\u001b[43m,\u001b[49m\u001b[43m \u001b[49m\u001b[38;5;28;43;01mFalse\u001b[39;49;00m\u001b[43m)\u001b[49m\u001b[43m,\u001b[49m\n\u001b[1;32m   1886\u001b[0m \u001b[43m    \u001b[49m\u001b[43mis_text\u001b[49m\u001b[38;5;241;43m=\u001b[39;49m\u001b[43mis_text\u001b[49m\u001b[43m,\u001b[49m\n\u001b[1;32m   1887\u001b[0m \u001b[43m    \u001b[49m\u001b[43merrors\u001b[49m\u001b[38;5;241;43m=\u001b[39;49m\u001b[38;5;28;43mself\u001b[39;49m\u001b[38;5;241;43m.\u001b[39;49m\u001b[43moptions\u001b[49m\u001b[38;5;241;43m.\u001b[39;49m\u001b[43mget\u001b[49m\u001b[43m(\u001b[49m\u001b[38;5;124;43m\"\u001b[39;49m\u001b[38;5;124;43mencoding_errors\u001b[39;49m\u001b[38;5;124;43m\"\u001b[39;49m\u001b[43m,\u001b[49m\u001b[43m \u001b[49m\u001b[38;5;124;43m\"\u001b[39;49m\u001b[38;5;124;43mstrict\u001b[39;49m\u001b[38;5;124;43m\"\u001b[39;49m\u001b[43m)\u001b[49m\u001b[43m,\u001b[49m\n\u001b[1;32m   1888\u001b[0m \u001b[43m    \u001b[49m\u001b[43mstorage_options\u001b[49m\u001b[38;5;241;43m=\u001b[39;49m\u001b[38;5;28;43mself\u001b[39;49m\u001b[38;5;241;43m.\u001b[39;49m\u001b[43moptions\u001b[49m\u001b[38;5;241;43m.\u001b[39;49m\u001b[43mget\u001b[49m\u001b[43m(\u001b[49m\u001b[38;5;124;43m\"\u001b[39;49m\u001b[38;5;124;43mstorage_options\u001b[39;49m\u001b[38;5;124;43m\"\u001b[39;49m\u001b[43m,\u001b[49m\u001b[43m \u001b[49m\u001b[38;5;28;43;01mNone\u001b[39;49;00m\u001b[43m)\u001b[49m\u001b[43m,\u001b[49m\n\u001b[1;32m   1889\u001b[0m \u001b[43m\u001b[49m\u001b[43m)\u001b[49m\n\u001b[1;32m   1890\u001b[0m \u001b[38;5;28;01massert\u001b[39;00m \u001b[38;5;28mself\u001b[39m\u001b[38;5;241m.\u001b[39mhandles \u001b[38;5;129;01mis\u001b[39;00m \u001b[38;5;129;01mnot\u001b[39;00m \u001b[38;5;28;01mNone\u001b[39;00m\n\u001b[1;32m   1891\u001b[0m f \u001b[38;5;241m=\u001b[39m \u001b[38;5;28mself\u001b[39m\u001b[38;5;241m.\u001b[39mhandles\u001b[38;5;241m.\u001b[39mhandle\n",
      "File \u001b[0;32m~/miniconda3/envs/torch_env/lib/python3.12/site-packages/pandas/io/common.py:873\u001b[0m, in \u001b[0;36mget_handle\u001b[0;34m(path_or_buf, mode, encoding, compression, memory_map, is_text, errors, storage_options)\u001b[0m\n\u001b[1;32m    868\u001b[0m \u001b[38;5;28;01melif\u001b[39;00m \u001b[38;5;28misinstance\u001b[39m(handle, \u001b[38;5;28mstr\u001b[39m):\n\u001b[1;32m    869\u001b[0m     \u001b[38;5;66;03m# Check whether the filename is to be opened in binary mode.\u001b[39;00m\n\u001b[1;32m    870\u001b[0m     \u001b[38;5;66;03m# Binary mode does not support 'encoding' and 'newline'.\u001b[39;00m\n\u001b[1;32m    871\u001b[0m     \u001b[38;5;28;01mif\u001b[39;00m ioargs\u001b[38;5;241m.\u001b[39mencoding \u001b[38;5;129;01mand\u001b[39;00m \u001b[38;5;124m\"\u001b[39m\u001b[38;5;124mb\u001b[39m\u001b[38;5;124m\"\u001b[39m \u001b[38;5;129;01mnot\u001b[39;00m \u001b[38;5;129;01min\u001b[39;00m ioargs\u001b[38;5;241m.\u001b[39mmode:\n\u001b[1;32m    872\u001b[0m         \u001b[38;5;66;03m# Encoding\u001b[39;00m\n\u001b[0;32m--> 873\u001b[0m         handle \u001b[38;5;241m=\u001b[39m \u001b[38;5;28;43mopen\u001b[39;49m\u001b[43m(\u001b[49m\n\u001b[1;32m    874\u001b[0m \u001b[43m            \u001b[49m\u001b[43mhandle\u001b[49m\u001b[43m,\u001b[49m\n\u001b[1;32m    875\u001b[0m \u001b[43m            \u001b[49m\u001b[43mioargs\u001b[49m\u001b[38;5;241;43m.\u001b[39;49m\u001b[43mmode\u001b[49m\u001b[43m,\u001b[49m\n\u001b[1;32m    876\u001b[0m \u001b[43m            \u001b[49m\u001b[43mencoding\u001b[49m\u001b[38;5;241;43m=\u001b[39;49m\u001b[43mioargs\u001b[49m\u001b[38;5;241;43m.\u001b[39;49m\u001b[43mencoding\u001b[49m\u001b[43m,\u001b[49m\n\u001b[1;32m    877\u001b[0m \u001b[43m            \u001b[49m\u001b[43merrors\u001b[49m\u001b[38;5;241;43m=\u001b[39;49m\u001b[43merrors\u001b[49m\u001b[43m,\u001b[49m\n\u001b[1;32m    878\u001b[0m \u001b[43m            \u001b[49m\u001b[43mnewline\u001b[49m\u001b[38;5;241;43m=\u001b[39;49m\u001b[38;5;124;43m\"\u001b[39;49m\u001b[38;5;124;43m\"\u001b[39;49m\u001b[43m,\u001b[49m\n\u001b[1;32m    879\u001b[0m \u001b[43m        \u001b[49m\u001b[43m)\u001b[49m\n\u001b[1;32m    880\u001b[0m     \u001b[38;5;28;01melse\u001b[39;00m:\n\u001b[1;32m    881\u001b[0m         \u001b[38;5;66;03m# Binary mode\u001b[39;00m\n\u001b[1;32m    882\u001b[0m         handle \u001b[38;5;241m=\u001b[39m \u001b[38;5;28mopen\u001b[39m(handle, ioargs\u001b[38;5;241m.\u001b[39mmode)\n",
      "\u001b[0;31mFileNotFoundError\u001b[0m: [Errno 2] No such file or directory: 'omni_hro_1min_2013-05.csv'"
     ]
    }
   ],
   "source": [
    "#import_path=r'/Users/sr2/My Drive/Career/Employment/Current/JSPS/Research/Analysis/Apr-24/data/omni/omni_hro_5min_2021-2022.csv'\n",
    "import_path = r'omni_hro_1min_2013-05.csv'\n",
    "omni_df = pd.read_csv(import_path)\n",
    "omni_df"
   ]
  },
  {
   "cell_type": "code",
   "execution_count": 14,
   "metadata": {},
   "outputs": [],
   "source": [
    "def clean_omni(df):\n",
    "    df = df.copy()\n",
    "    df = df.dropna()\n",
    "\n",
    "    #filters\n",
    "    df = df[df['BY_GSE'] < 100]\n",
    "    df = df[df['BZ_GSE'] < 100]\n",
    "    df = df[df['flow_speed'] < 1400]\n",
    "    df = df[df['proton_density'] < 150]\n",
    "    #f = df[df['T'] < 1e6]\n",
    "    #df = df[df['Pressure'] < 100]\n",
    "    #f = df[df['E'] < 100]\n",
    "    #df = df[df['Mach_num'] < 100]\n",
    "    #df = df[df['SYM_H'].between(-1000,100)]\n",
    "    #df = df[df['F10.7'] < 400]\n",
    "    #df = df[df['Kp'] < 100]\n",
    "    #df['Kp'] = df['Kp'] / 10\n",
    "\n",
    "    #change data types\n",
    "    df[['F10.7','flow_speed']] = df[['F10.7','flow_speed']].astype(int)\n",
    "\n",
    "    #new features\n",
    "    df['Timestamp_1min_omni'] = pd.to_datetime(df['Timestamp_1min_omni'])\n",
    "    df['doy'] = df['Timestamp_1min_omni'].dt.dayofyear\n",
    "    \n",
    "    def calculate_tilt_angle(row):\n",
    "        t0 = datetime.datetime(1970, 1, 1)\n",
    "        t1 = row['Timestamp_1min_omni']\n",
    "        tdiff = (t1 - t0).total_seconds()\n",
    "        tilt_angle = geopack.recalc(tdiff) # Calculate dipole tilt angle\n",
    "        \n",
    "        return tilt_angle\n",
    "    \n",
    "    df['tilt_angle'] = df.apply(calculate_tilt_angle, axis=1)\n",
    "\n",
    "    #interpolate missing values\n",
    "    #df = df.interpolate()\n",
    "    #df = df.drop(columns=['percent_interp','Timestamp_1hr_omni','BSN_y','BSN_z'])\n",
    "\n",
    "    #match SMRAI2 inputs\n",
    "    #df = df.drop(columns=['BSN_x','SYM_H','doy','T','Pressure','E','Mach_num','SYM_H','F10.7','Kp']).\n",
    "    df['dt'] = df['Timestamp_1min_omni']\n",
    "    df['dt'] = pd.to_datetime(df['dt'])\n",
    "    df = df[['dt','BY_GSE','BZ_GSE','flow_speed','proton_density','tilt_angle']]\n",
    "    return df\n",
    "\n",
    "omni_df = clean_omni(months_df)\n",
    "omni_df.to_csv(export_filename, index=False, header=True)"
   ]
  },
  {
   "cell_type": "code",
   "execution_count": null,
   "metadata": {},
   "outputs": [],
   "source": [
    "#show nan values\n"
   ]
  },
  {
   "cell_type": "code",
   "execution_count": null,
   "metadata": {},
   "outputs": [],
   "source": [
    "#Read MHD dates and expand-out the date ranges\n",
    "mhd_data = pd.read_csv('mhd_dates.csv')\n",
    "expanded_dt = pd.concat([pd.Series(pd.date_range(start, end)) \n",
    "        for start, end in zip(mhd_data['start'], mhd_data['end'])])\n",
    "\n",
    "time = np.arange(288) #24hrs in 5min intervals\n",
    "dt = [] \n",
    "for day in expanded_dt:\n",
    "    for t in time:\n",
    "        dt.append(day + pd.Timedelta(minutes=t*5)) #add 5min intervals to each day\n",
    "dt = np.array(dt) #convert from list to numpy array\n",
    "mhd_dates = pd.DataFrame({'Timestamp_1min_omni': dt}) \n",
    "mhd_dates"
   ]
  },
  {
   "cell_type": "code",
   "execution_count": null,
   "metadata": {},
   "outputs": [],
   "source": [
    "omni_mhd_dt_merged = pd.merge(mhd_dates, omni_df, on='Timestamp_1min_omni', how='left')\n",
    "omni_mhd_dt_merged.rename(columns={'Timestamp_1min_omni':'dt'}, inplace=True)\n",
    "omni_mhd_dt_merged.sort_values(by='dt', inplace=True)\n",
    "#omni_mhd_dt_merged =omni_mhd_dt_merged.interpolate()\n",
    "#check for nan values\n",
    "omni_mhd_dt_merged.isnull().sum()"
   ]
  },
  {
   "cell_type": "code",
   "execution_count": null,
   "metadata": {},
   "outputs": [],
   "source": [
    "# Merge the dataframes\n",
    "omni_mhd_dt_merged = pd.merge(mhd_dates, omni_df, on='Timestamp_1min_omni', how='left')\n",
    "omni_mhd_dt_merged.rename(columns={'Timestamp_1min_omni': 'dt'}, inplace=True)\n",
    "omni_mhd_dt_merged.sort_values(by='dtinterpolated\n",
    "', inplace=True)\n",
    "\n",
    "# Interpolate missing values\n",
    "omni_mhd_dt_merged['interpolated'] = omni_mhd_dt_merged.isnull().any(axis=1).astype(int)\n",
    "omni_mhd_dt_merged = omni_mhd_dt_merged.interpolate()\n",
    "\n",
    "# Plotting\n",
    "fig, axes = plt.subplots(nrows=len(omni_mhd_dt_merged.columns[1:-1]), ncols=1, figsize=(10, 2 * len(omni_mhd_dt_merged.columns[1:-1])), sharex=True)\n",
    "for i, column in enumerate(omni_mhd_dt_merged.columns[1:-1]):\n",
    "    axes[i].plot(omni_mhd_dt_merged['dt'], omni_mhd_dt_merged[column], label=column)\n",
    "    axes[i].scatter(omni_mhd_dt_merged['dt'][omni_mhd_dt_merged['interpolated'] == 1], omni_mhd_dt_merged[column][omni_mhd_dt_merged['interpolated'] == 1], color='red', label='Interpolated')\n",
    "    axes[i].set_ylabel(column)\n",
    "    axes[i].legend()\n",
    "    axes[i].grid(True)\n",
    "plt.xlabel('Date')\n",
    "plt.tight_layout()\n",
    "plt.show()\n"
   ]
  },
  {
   "cell_type": "code",
   "execution_count": null,
   "metadata": {},
   "outputs": [],
   "source": [
    "#export omni_mhd_dt_merged\n",
    "#export_path = f'/Users/sr2/My Drive/Career/Employment/Current/JSPS/Research/Analysis/Apr-24/data/omni/'\n",
    "#export_path = f'/home/sachin/Documents/NIPR/Research/VSCode/REPPU-ESN2/SR_ML/'\n",
    "df_name = f'omni_add-feats_mhd_5min'\n",
    "#export_filename = export_path + df_name +'.csv'\n",
    "export_filename = df_name +'.csv'\n",
    "omni_mhd_dt_merged.to_csv(export_filename, index=False, header=True)\n"
   ]
  },
  {
   "cell_type": "code",
   "execution_count": null,
   "metadata": {},
   "outputs": [],
   "source": [
    "#show nan values\n",
    "nan_values = omni_mhd_dt_merged[omni_mhd_dt_merged.isna().any(axis=1)]\n",
    "nan_values.sort_values(by='dt')"
   ]
  },
  {
   "cell_type": "markdown",
   "metadata": {},
   "source": [
    "Plots are below. Not part of main code"
   ]
  },
  {
   "cell_type": "code",
   "execution_count": null,
   "metadata": {},
   "outputs": [],
   "source": [
    "fig, ax = plt.subplots(figsize=(10, 10))\n",
    "omni_df.hist(ax=ax)\n",
    "plt.tight_layout()"
   ]
  },
  {
   "cell_type": "code",
   "execution_count": null,
   "metadata": {},
   "outputs": [],
   "source": [
    "y = omni_df['doy']\n",
    "x = omni_df['tilt_angle']\n",
    "r2 = x.corr(y)\n",
    "sns.jointplot(x=x, y=y, kind='scatter', s=1, height=4.5)\n",
    "RE = r'R$_E$'\n",
    "pcc = r'cm$^{-3}$'\n",
    "#plt.xlabel(f'Proton Density [{pcc}]')\n",
    "#plt.ylabel(f'Bow Shock Nose Location (GSE-X) [{RE}]')\n",
    "#plt.xlabel('Pressure [nPa]')\n",
    "\n",
    "#plt.ylabel('Electric Field [mV/m]')\n",
    "#plt.xlabel('Bz [nT]')\n",
    "\n",
    "r2_lab = r'R$^2$'    \n",
    "annotation = f'{r2_lab} = {r2:.2f}'\n",
    "plt.annotate(annotation, xy=(0.75, 0.7), xycoords='axes fraction', fontsize=11)\n",
    "plt.tight_layout()\n",
    "plt.savefig('/Users/sr2/OneDrive - University College London/PhD/Experiences/Postdocs/JSPS/Research/Analysis/Apr-24/plots/omni/R2_tilt-angle_doy.png', dpi=300)"
   ]
  },
  {
   "cell_type": "code",
   "execution_count": null,
   "metadata": {},
   "outputs": [],
   "source": [
    "corr = omni_df.corr()\n",
    "\n",
    "# Generate a mask for the upper triangle\n",
    "mask = np.triu(np.ones_like(corr, dtype=bool))\n",
    "\n",
    "# Set up the matplotlib figure\n",
    "f, ax = plt.subplots(figsize=(7.5, 6.5))\n",
    "\n",
    "# Generate a custom diverging colormap\n",
    "cmap = sns.diverging_palette(230, 20, as_cmap=True)\n",
    "\n",
    "# Draw the heatmap with the mask and correct aspect ratio\n",
    "sns.heatmap(corr, mask=mask, cmap='coolwarm', vmin=-1, vmax=1, center=0,\n",
    "            square=True, linewidths=.5, cbar_kws={\"shrink\": .7}, annot=True,\n",
    "             fmt=\".2f\")\n",
    "\n",
    "plt.title('OMNI 5min Data Correlation Matrix \\n January 2021 - December 2022',pad=-40)\n",
    "plt.tight_layout()\n",
    "#plt.savefig('/Users/sr2/OneDrive - University College London/PhD/Experiences/Postdocs/JSPS/Research/Analysis/Apr-24/plots/omni/omni_heatmap.png', dpi=400)"
   ]
  },
  {
   "cell_type": "code",
   "execution_count": null,
   "metadata": {},
   "outputs": [],
   "source": [
    "sns.histplot(omni_mhd_dt_merged['flow_speed'], bins=50)\n",
    "omni_mhd_dt_merged['flow_speed'].describe()"
   ]
  },
  {
   "cell_type": "code",
   "execution_count": null,
   "metadata": {},
   "outputs": [],
   "source": []
  },
  {
   "cell_type": "code",
   "execution_count": null,
   "metadata": {},
   "outputs": [],
   "source": [
    "plt.figure(figsize=(10,10))\n",
    "sns.heatmap(omni_df.corr(), annot=True, cmap='coolwarm', vmin=-1, vmax=1, center=0, fmt=\".2f\")"
   ]
  }
 ],
 "metadata": {
  "kernelspec": {
   "display_name": "nipr_env",
   "language": "python",
   "name": "python3"
  },
  "language_info": {
   "codemirror_mode": {
    "name": "ipython",
    "version": 3
   },
   "file_extension": ".py",
   "mimetype": "text/x-python",
   "name": "python",
   "nbconvert_exporter": "python",
   "pygments_lexer": "ipython3",
   "version": "3.12.3"
  }
 },
 "nbformat": 4,
 "nbformat_minor": 2
}
