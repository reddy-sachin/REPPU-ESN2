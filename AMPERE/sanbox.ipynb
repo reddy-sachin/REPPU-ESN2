{
 "cells": [
  {
   "cell_type": "code",
   "execution_count": null,
   "metadata": {},
   "outputs": [],
   "source": [
    "# Example: Assuming your LSTM + CNN model is defined as MyModel\n",
    "model = MyModel()\n",
    "criterion = nn.MSELoss(reduction='none')  # Use 'none' to get individual losses\n",
    "\n",
    "# Compute or define your grid area weights\n",
    "grid_weights = torch.tensor([[weight_lat_lon for lon in range(24)] for lat in range(50)])  # Example weights\n",
    "\n",
    "optimizer = optim.Adam(model.parameters(), lr=0.001)\n",
    "\n",
    "def weighted_loss(output, target, weights):\n",
    "    loss = criterion(output, target)  # Shape: (batch_size, 50, 24)\n",
    "    weighted_loss = loss * weights  # Broadcasting weights over the batch dimension\n",
    "    return weighted_loss.mean()\n",
    "\n",
    "# Training loop\n",
    "for epoch in range(num_epochs):\n",
    "    for inputs, targets in data_loader:\n",
    "        optimizer.zero_grad()\n",
    "        outputs = model(inputs)\n",
    "        \n",
    "        # Assuming outputs and targets are of shape (batch_size, 50, 24)\n",
    "        weights = grid_weights.to(outputs.device)  # Move weights to the same device as outputs\n",
    "        loss = weighted_loss(outputs, targets, weights)\n",
    "        \n",
    "        loss.backward()\n",
    "        optimizer.step()"
   ]
  },
  {
   "cell_type": "code",
   "execution_count": 2,
   "metadata": {},
   "outputs": [],
   "source": [
    "import numpy as np"
   ]
  },
  {
   "cell_type": "code",
   "execution_count": 5,
   "metadata": {},
   "outputs": [],
   "source": [
    "def calculate_delta(lat1, lon1, lat2, lon2):\n",
    "    R_E = 6371.0 * 1e3 #meters\n",
    "\n",
    "    lat1_rad = np.radians(lat1)\n",
    "    lon1_rad = np.radians(lon1)\n",
    "    lat2_rad = np.radians(lat2)\n",
    "    lon2_rad = np.radians(lon2)\n",
    "\n",
    "    dlat = lat2_rad - lat1_rad\n",
    "    dlon = lon2_rad - lon1_rad\n",
    "\n",
    "    delta_x = (dlat / 360)*2*np.pi*R_E\n",
    "    delta_y = (dlon / 360)*2*np.pi*R_E*np.sin(lat1_rad)\n",
    "\n",
    "    return delta_x, delta_y\n",
    "\n",
    "lat = np.linspace(53.1, 89.7, 30) #30 intervals between 53.1° to 89.7°\n",
    "lon = np.linspace(1.6, 357.6, 80) #80 intervals between 1.6° to 357.6°\n",
    "\n",
    "delta_x, delta_y = calculate_delta(lat[0], lon[0], lat[1], lon[1])"
   ]
  }
 ],
 "metadata": {
  "kernelspec": {
   "display_name": "torch_env",
   "language": "python",
   "name": "python3"
  },
  "language_info": {
   "codemirror_mode": {
    "name": "ipython",
    "version": 3
   },
   "file_extension": ".py",
   "mimetype": "text/x-python",
   "name": "python",
   "nbconvert_exporter": "python",
   "pygments_lexer": "ipython3",
   "version": "3.12.3"
  }
 },
 "nbformat": 4,
 "nbformat_minor": 2
}
