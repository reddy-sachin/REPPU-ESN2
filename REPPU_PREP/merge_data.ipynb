{
 "cells": [
  {
   "cell_type": "code",
   "execution_count": 1,
   "metadata": {},
   "outputs": [],
   "source": [
    "import numpy as np\n",
    "import pandas as pd\n",
    "import xarray as xr\n",
    "import matplotlib.pyplot as plt\n",
    "import datetime as datetime\n",
    "import matplotlib.colors as mcolors\n",
    "import seaborn as sns"
   ]
  },
  {
   "cell_type": "code",
   "execution_count": 2,
   "metadata": {},
   "outputs": [
    {
     "ename": "",
     "evalue": "",
     "output_type": "error",
     "traceback": [
      "\u001b[1;31mThe Kernel crashed while executing code in the current cell or a previous cell. \n",
      "\u001b[1;31mPlease review the code in the cell(s) to identify a possible cause of the failure. \n",
      "\u001b[1;31mClick <a href='https://aka.ms/vscodeJupyterKernelCrash'>here</a> for more info. \n",
      "\u001b[1;31mView Jupyter <a href='command:jupyter.viewOutput'>log</a> for further details."
     ]
    }
   ],
   "source": [
    "def merge_ds():\n",
    "    aug08 = xr.open_dataset('/run/media/sachin/0fa21ddb-f70c-4238-9cf4-705e0360f1c1/NICT_Data/test/202008_40_180.nc')\n",
    "    sep08 = xr.open_dataset('/run/media/sachin/0fa21ddb-f70c-4238-9cf4-705e0360f1c1/NICT_Data/test/202009_40_180.nc')\n",
    "    oct08 = xr.open_dataset('/run/media/sachin/0fa21ddb-f70c-4238-9cf4-705e0360f1c1/NICT_Data/test/202010_40_180.nc')\n",
    "    nov08 = xr.open_dataset('/run/media/sachin/0fa21ddb-f70c-4238-9cf4-705e0360f1c1/NICT_Data/test/202011_40_180.nc')\n",
    "    dec08 = xr.open_dataset('/run/media/sachin/0fa21ddb-f70c-4238-9cf4-705e0360f1c1/NICT_Data/test/202012_40_180.nc')\n",
    "\n",
    "    merged = xr.merge([aug08, sep08, oct08, nov08, dec08])\n",
    "\n",
    "    return merged\n",
    "\n",
    "merged_ds = merge_ds()\n",
    "merged_ds"
   ]
  },
  {
   "cell_type": "code",
   "execution_count": null,
   "metadata": {},
   "outputs": [],
   "source": [
    "def add_imf_sw(ds):\n",
    "    imf_df = pd.read_csv('/home/sachin/Documents/NIPR/Research/Data/OMNI/1-min/omni_hro2_1min_202008.csv')\n",
    "    imf_df['dt'] = pd.to_datetime(imf_df['dt']) #convert to datetime\n",
    "    imf_df = imf_df.set_index('dt') #set datetime as index\n",
    "    imf_df = imf_df.resample(f'{resolution}T').mean()  #resample over N mins\n",
    "    imf_ds = xr.Dataset.from_dataframe(imf_df) #convert to xarray dataset\n",
    "\n",
    "    merged = xr.merge([ds, imf_ds], join='inner') #merge the datasets\n",
    "\n",
    "    return merged\n",
    "\n",
    "ml_ds = add_imf_sw(combined_ds)\n",
    "ml_ds"
   ]
  }
 ],
 "metadata": {
  "kernelspec": {
   "display_name": "torch_env",
   "language": "python",
   "name": "python3"
  },
  "language_info": {
   "codemirror_mode": {
    "name": "ipython",
    "version": 3
   },
   "file_extension": ".py",
   "mimetype": "text/x-python",
   "name": "python",
   "nbconvert_exporter": "python",
   "pygments_lexer": "ipython3",
   "version": "3.12.3"
  }
 },
 "nbformat": 4,
 "nbformat_minor": 2
}
