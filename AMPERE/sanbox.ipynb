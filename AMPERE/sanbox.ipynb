{
 "cells": [
  {
   "metadata": {
    "ExecuteTime": {
     "end_time": "2024-07-23T05:31:41.618417Z",
     "start_time": "2024-07-23T05:31:41.613601Z"
    }
   },
   "cell_type": "code",
   "source": "import numpy as np\n",
   "outputs": [],
   "execution_count": 13
  },
  {
   "metadata": {
    "ExecuteTime": {
     "end_time": "2024-07-23T06:21:24.031811Z",
     "start_time": "2024-07-23T06:21:24.021550Z"
    }
   },
   "cell_type": "code",
   "source": [
    "v_sw = 1200\n",
    "Bx = 1 * 1e-9 #GSM\n",
    "By = -2 * 1e-9 #GSM\n",
    "Bz = -50 * 1e-9 #GSM\n",
    "B = np.sqrt(Bx**2 + By**2 + Bz**2)\n",
    "mu_0 = np.pi * 4 * 10e-8\n",
    "l_0 = 6371 * 1000 * 7 #7 R_E\n",
    "\n",
    "def clock_angle(By, Bz):\n",
    "    angle = np.rad2deg(np.arctan2(By, Bz))\n",
    "    np.where(angle < 0, angle + 360, angle)\n",
    "    return angle\n",
    "\n",
    "def clock_length(By, Bz):\n",
    "    return np.sqrt(By**2 + Bz**2)\n",
    "\n",
    "def cross_polar_cap_pot(Vsw, B, theta):\n",
    "    #from https://agupubs.onlinelibrary.wiley.com/doi/epdf/10.1029/96JA01742\n",
    "    #and  https://www.sws.bom.gov.au/Category/Solar/Solar%20Conditions/Solar%20Wind%20Clock%20Angle/Solar%20Wind%20Clock%20Angle.php\n",
    "    return 10e-4 * Vsw**2 + 11.7 * B * (np.sin(np.deg2rad(theta)/2))**3\n",
    "\n",
    "theta = clock_angle(By, Bz)\n",
    "length = clock_length(By, Bz)\n",
    "CPCP = cross_polar_cap_pot(v_sw, length, theta)\n",
    "\n",
    "epsilon_W = (4 * np.pi / mu_0) * v_sw * B**2 * np.sin(theta / 2)**4 * l_0**2\n",
    "\n",
    "print(f\"ε: {epsilon_W/1e9} GW\") #1 watt = 1 Joules"
   ],
   "outputs": [
    {
     "name": "stdout",
     "output_type": "stream",
     "text": [
      "ε: 21.80652136406873 GW\n"
     ]
    }
   ],
   "execution_count": 100
  },
  {
   "metadata": {
    "ExecuteTime": {
     "end_time": "2024-07-23T06:21:32.007145Z",
     "start_time": "2024-07-23T06:21:31.998225Z"
    }
   },
   "cell_type": "code",
   "source": "CPCP, length",
   "outputs": [
    {
     "data": {
      "text/plain": [
       "(1439.999999414883, 5.003998401278722e-08)"
      ]
     },
     "execution_count": 101,
     "metadata": {},
     "output_type": "execute_result"
    }
   ],
   "execution_count": 101
  }
 ],
 "metadata": {
  "kernelspec": {
   "display_name": "torch_env",
   "language": "python",
   "name": "python3"
  },
  "language_info": {
   "codemirror_mode": {
    "name": "ipython",
    "version": 3
   },
   "file_extension": ".py",
   "mimetype": "text/x-python",
   "name": "python",
   "nbconvert_exporter": "python",
   "pygments_lexer": "ipython3",
   "version": "3.12.3"
  }
 },
 "nbformat": 4,
 "nbformat_minor": 2
}
