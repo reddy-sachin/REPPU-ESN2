{
 "cells": [
  {
   "cell_type": "code",
   "execution_count": 3,
   "metadata": {},
   "outputs": [],
   "source": [
    "import imageio\n",
    "import os"
   ]
  },
  {
   "cell_type": "code",
   "execution_count": 12,
   "metadata": {},
   "outputs": [],
   "source": [
    "folder_path = r'/home/sachin/Documents/NIPR/Research/Analysis/Aug-24/plots/Current/2004-01-22/'\n",
    "png_files = [f for f in os.listdir(folder_path) if f.endswith('.png')]\n",
    "#sort png_files in reverse order\n",
    "png_files.sort(reverse=False)\n",
    "\n",
    "images = []\n",
    "for file_name in png_files:\n",
    "    image = imageio.v2.imread(os.path.join(folder_path, file_name))\n",
    "    images.append(image)\n",
    "\n",
    "#imageio.mimsave('/Users/sr2/My Drive/Career/Employment/Current/JSPS/Research/Analysis/Apr-24/plots/SMRAI3/current/param_surveys/Bz/fac_on_Bz.mp4', images, fps=2)\n",
    "#imageio.mimsave('/Users/sr2/My Drive/Career/Employment/Current/JSPS/Research/Analysis/Apr-24/plots/SMRAI3/current/param_surveys/Bz/fac_on_Bz.gif', images, fps=2)\n",
    "\n",
    "imageio.mimsave('/home/sachin/Documents/NIPR/Research/Analysis/Aug-24/plots/Current/2004-01-22/J_2004-01.gif', images, fps=4)"
   ]
  }
 ],
 "metadata": {
  "kernelspec": {
   "display_name": "nipr_env",
   "language": "python",
   "name": "python3"
  },
  "language_info": {
   "codemirror_mode": {
    "name": "ipython",
    "version": 3
   },
   "file_extension": ".py",
   "mimetype": "text/x-python",
   "name": "python",
   "nbconvert_exporter": "python",
   "pygments_lexer": "ipython3",
   "version": "3.12.3"
  }
 },
 "nbformat": 4,
 "nbformat_minor": 2
}
